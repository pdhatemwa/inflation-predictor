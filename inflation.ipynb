{
 "cells": [
  {
   "cell_type": "markdown",
   "id": "455d4c51",
   "metadata": {},
   "source": [
    "# 📈 Inflation Predictor\n",
    "\n",
    "A data science project focused on predicting inflation rates using historical data from the World Bank. This notebook contains code and documentation for the full machine learning pipeline, from data acquisition and preprocessing to model deployment via Streamlit.\n",
    "\n",
    "### Disclaimer\n",
    "This streamlit web app does not depcict truth, It is only a functional tool into which real world data can be inputed, and used to derive insight."
   ]
  },
  {
   "cell_type": "markdown",
   "id": "f2721bc6",
   "metadata": {},
   "source": [
    "### 🔬 Key Processes:\n",
    "\n",
    "1. **Data Collection** – Fetching datasets from the World Bank API or CSV files.\n",
    "2. **Data Cleaning** – Handling missing values, formatting inconsistencies, and outliers.\n",
    "3. **Exploratory Data Analysis** – Understanding distributions, trends, and correlations.\n",
    "4. **Feature Engineering** – Generating relevant features such as lag variables, rolling averages, and economic ratios.\n",
    "5. **Model Training** – Training and tuning the XGBoost model using scikit-learn pipelines.\n",
    "6. **Evaluation** – Measuring performance using RMSE, MAE, and R².\n",
    "7. **Visualization** – Presenting insights and predictions in a user-friendly format.\n",
    "8. **Deployment** – Deploying the predictive model using Streamlit."
   ]
  },
  {
   "cell_type": "markdown",
   "id": "2c7b1d48",
   "metadata": {},
   "source": [
    "Import the Key Libraries used in the data workflow."
   ]
  },
  {
   "cell_type": "code",
   "execution_count": 3,
   "id": "9be1d835",
   "metadata": {},
   "outputs": [],
   "source": [
    "import seaborn as sns \n",
    "import matplotlib.pyplot as plt \n",
    "import matplotlib.ticker as ticker\n",
    "from sklearn.model_selection import train_test_split\n",
    "from sklearn.metrics import mean_absolute_error\n",
    "import pandas as pd \n",
    "import numpy as np \n",
    "import streamlit as st \n",
    "import xgboost as xgb"
   ]
  },
  {
   "cell_type": "markdown",
   "id": "54b62c5d",
   "metadata": {},
   "source": [
    "Load the data.\n",
    "This data is a csv file from the world bank showing all the inflation rates from 1960 to 2023."
   ]
  },
  {
   "cell_type": "code",
   "execution_count": 4,
   "id": "c0a0179e",
   "metadata": {},
   "outputs": [],
   "source": [
    "# Step 1: Load the data\n",
    "my_data = r\"/Users/d/Desktop/world_inflation_data/Sheet 1-API_FP.CPI.TOTL.ZG_DS2_en_csv_v2_122376.csv\"\n",
    "df = pd.read_csv(my_data, skiprows = 4)"
   ]
  },
  {
   "cell_type": "markdown",
   "id": "c3e3ae7c",
   "metadata": {},
   "source": [
    "Now, because of the shape of the data, we'd have to melt it, such that pandas can easily interpret it.\n",
    "We are trying to minimise errors."
   ]
  },
  {
   "cell_type": "code",
   "execution_count": 5,
   "id": "90ca3198",
   "metadata": {},
   "outputs": [],
   "source": [
    "# Step 2: Reshape / melt the wide format into long format\n",
    "df_long = df.melt(\n",
    "    id_vars=[\"Country Name\", \"Country Code\", \"Indicator Name\", \"Indicator Code\"],\n",
    "    var_name=\"Year\",\n",
    "    value_name=\"Inflation\"\n",
    ")"
   ]
  },
  {
   "cell_type": "markdown",
   "id": "a9c2287d",
   "metadata": {},
   "source": [
    "Step 3: Clean the Year column\n",
    "\n",
    "df_long[\"Year\"] = pd.to_numeric(df_long[\"Year\"], errors=\"coerce\")\n",
    "\n",
    "What’s happening here?\n",
    "df_long[\"Year\"]:  This selects the Year column from our DataFrame df_long.\n",
    "\n",
    "At this stage, the Year column might not be in a clean numeric format. For example, it could contain values like:\n",
    "\"1990\", \"1991\", \"N/A\", \"Year 1992\", \"missing\"\n",
    "pd.to_numeric(..., errors=\"coerce\"):\n",
    "This function tries to convert values to numbers.\n",
    "If a value can be converted (e.g. \"1990\" → 1990), it becomes a number.\n",
    "If a value cannot be converted (e.g. \"N/A\" or \"Year 1992\"), then:\n",
    "With errors=\"coerce\", it replaces the value with NaN (Not a Number).\n",
    "The result is assigned back to df_long[\"Year\"], so now the entire column will contain clean numeric year values or NaN where conversion failed."
   ]
  },
  {
   "cell_type": "code",
   "execution_count": 6,
   "id": "47ffe499",
   "metadata": {},
   "outputs": [],
   "source": [
    "# Step 3: Clean the Year column\n",
    "df_long[\"Year\"] = pd.to_numeric(df_long[\"Year\"], errors=\"coerce\")"
   ]
  },
  {
   "cell_type": "markdown",
   "id": "182cd1fe",
   "metadata": {},
   "source": [
    "Step 4.\n",
    "Here we are going to deal will mising values.\n",
    "To try to manage biasness, I will fill the empty cells with the median value of the entire column per column."
   ]
  },
  {
   "cell_type": "code",
   "execution_count": 7,
   "id": "42594241",
   "metadata": {},
   "outputs": [],
   "source": [
    "# Step 4: Handle missing values → fill with median\n",
    "df_long[\"Inflation\"] = df_long[\"Inflation\"].fillna(df_long[\"Inflation\"].median())"
   ]
  },
  {
   "cell_type": "markdown",
   "id": "fa7a2601",
   "metadata": {},
   "source": [
    "### Step 5: Create Lagged Features\n",
    "\n",
    "When working with **time series data**, past values often influence future outcomes.  \n",
    "To capture these temporal dependencies, we can create **lagged features** — new variables that represent the value of a feature from previous time periods.\n",
    "\n",
    "In this case, we are focusing on **inflation rates** across different countries and years.\n",
    "\n",
    "1. **Sort the data**  \n",
    "   First, the dataset is sorted by `Country Name` and `Year` to ensure the temporal order is correct.\n",
    "\n",
    "2. **Create lagged features**  \n",
    "   - `inflation_lag1`: The inflation rate from **1 year before** (previous year).  \n",
    "   - `inflation_lag4`: The inflation rate from **4 years before**.  \n",
    "\n",
    "This helps the model learn from historical inflation trends when predicting future values."
   ]
  },
  {
   "cell_type": "code",
   "execution_count": 9,
   "id": "df0670ad",
   "metadata": {},
   "outputs": [],
   "source": [
    "# Step 5: Create lagged features\n",
    "df_long = df_long.sort_values([\"Country Name\", \"Year\"])\n",
    "df_long[\"inflation_lag1\"] = df_long.groupby(\"Country Name\")[\"Inflation\"].shift(1)\n",
    "df_long[\"inflation_lag4\"] = df_long.groupby(\"Country Name\")[\"Inflation\"].shift(4)\n",
    "\n",
    "# Fill lagged missing with median too\n",
    "df_long[\"inflation_lag1\"] = df_long[\"inflation_lag1\"].fillna(df_long[\"inflation_lag1\"].median())\n",
    "df_long[\"inflation_lag4\"] = df_long[\"inflation_lag4\"].fillna(df_long[\"inflation_lag4\"].median())"
   ]
  },
  {
   "cell_type": "markdown",
   "id": "b648cf56",
   "metadata": {},
   "source": [
    "### Step 6: Define Features and Target\n",
    "\n",
    "Now that we have engineered **lagged inflation features**, we need to specify:  \n",
    "\n",
    "1. **Features (X)**  \n",
    "   - These are the input variables used to make predictions.  \n",
    "   - In our case:  \n",
    "     - `inflation_lag1`: Inflation from the previous year.  \n",
    "     - `inflation_lag4`: Inflation from 4 years prior.  \n",
    "\n",
    "2. **Target (y)**  \n",
    "   - This is the variable we want to predict.  \n",
    "   - Here, the target is the **current inflation rate** (`\"Inflation\"`).\n",
    "\n",
    "---\n",
    "\n",
    "### Train-Test Split\n",
    "\n",
    "To evaluate how well our model performs, we split the dataset into:  \n",
    "- **Training set** (75% of the data): Used to train the model.  \n",
    "- **Test set** (25% of the data): Used to evaluate model performance on unseen data.  \n",
    "\n",
    "⚠️ Notice that `shuffle=False` is set.  \n",
    "- This is important for **time series data**, because shuffling would mix up chronological order.  \n",
    "- By keeping the time order intact, the model simulates real-world forecasting (predicting the future from the past).\n",
    "\n",
    "---\n"
   ]
  },
  {
   "cell_type": "code",
   "execution_count": 10,
   "id": "8322e367",
   "metadata": {},
   "outputs": [],
   "source": [
    "# Step 6: Define features and target\n",
    "features = [\"inflation_lag1\", \"inflation_lag4\"]\n",
    "X = df_long[features]\n",
    "y = df_long[\"Inflation\"]\n",
    "\n",
    "X_train, X_test, y_train, y_test = train_test_split(X, y, shuffle=False, test_size = 0.25)"
   ]
  },
  {
   "cell_type": "markdown",
   "id": "9fec14e7",
   "metadata": {},
   "source": [
    "### Step 7: Train the Model\n",
    "\n",
    "With our dataset prepared, we can now train a machine learning model to predict inflation.  \n",
    "\n",
    "#### 1. Model Choice\n",
    "We are using **XGBoost Regressor (`XGBRegressor`)**:\n",
    "- A powerful **gradient boosting algorithm** designed for speed and performance.  \n",
    "- Well-suited for structured/tabular data, such as inflation time series.  \n",
    "- The `objective=\"reg:squarederror\"` setting specifies that this is a **regression problem** (predicting continuous values).\n",
    "\n",
    "#### 2. Model Training\n",
    "- The model is trained on the **training set (`X_train`, `y_train`)**.  \n",
    "- It learns the relationship between past inflation values (lags) and the current inflation rate.  \n",
    "\n",
    "#### 3. Prediction and Evaluation\n",
    "- After training, the model makes predictions (`y_pred`) on the **test set (`X_test`)**.  \n",
    "- We then evaluate performance using **Mean Absolute Error (MAE)**:\n",
    "  - Measures the average absolute difference between predicted and actual values.  \n",
    "  - Lower MAE = better predictive performance.  \n",
    "\n",
    "---\n"
   ]
  },
  {
   "cell_type": "code",
   "execution_count": 11,
   "id": "567d59a1",
   "metadata": {},
   "outputs": [
    {
     "name": "stdout",
     "output_type": "stream",
     "text": [
      "MAE: 8.934512998051018\n"
     ]
    }
   ],
   "source": [
    "# Step 7: Train model\n",
    "model = xgb.XGBRegressor(objective = \"reg:squarederror\")\n",
    "model.fit(X_train, y_train)\n",
    "\n",
    "y_pred = model.predict(X_test)\n",
    "print(\"MAE:\", mean_absolute_error(y_test, y_pred))"
   ]
  },
  {
   "cell_type": "markdown",
   "id": "11f2d80a",
   "metadata": {},
   "source": [
    "### Step 8: Visualization\n",
    "\n",
    "Before interpreting the model results, it’s useful to **visualize the raw inflation data** over time.  \n",
    "This helps us understand the general trend, periodicity, and fluctuations in the data.\n",
    "\n",
    "#### Plot Details\n",
    "- **Line plot** of `Inflation` against `Year` for all countries.  \n",
    "- A **marker (\"o\")** is added to highlight actual data points.  \n",
    "- **X-axis ticks** are shown every 5 years for readability.  \n",
    "- Labels and titles are included for clarity.\n",
    "\n",
    "This visualization provides important context:  \n",
    "- Do inflation rates show smooth trends or sharp spikes?  \n",
    "- Are there country-specific patterns or global cycles?  \n",
    "- How might past values (lags) influence future values?\n",
    "\n",
    "---\n"
   ]
  },
  {
   "cell_type": "code",
   "execution_count": 12,
   "id": "7fa8798e",
   "metadata": {},
   "outputs": [
    {
     "data": {
      "image/png": "[encoded data removed]",
      "text/plain": [
       "<Figure size 640x480 with 1 Axes>"
      ]
     },
     "metadata": {},
     "output_type": "display_data"
    }
   ],
   "source": [
    "# Step 8: Visualisation\n",
    "sns.lineplot(x=\"Year\", y=\"Inflation\", data=df_long, marker=\"o\")\n",
    "plt.title(\"Inflation Rate Over Time\", fontsize=14)\n",
    "plt.xlabel(\"Year\")\n",
    "plt.ylabel(\"Inflation Rate (%)\")\n",
    "plt.gca().xaxis.set_major_locator(ticker.MultipleLocator(5))  # show every 5 years\n",
    "plt.xticks(rotation=45)\n",
    "plt.show()"
   ]
  },
  {
   "cell_type": "markdown",
   "id": "5db3bab5",
   "metadata": {},
   "source": [
    "### Step 9: Streamlit App – Interactive Inflation Forecasting Tool\n",
    "\n",
    "To make the forecasting model more practical, we build an **interactive web application** using **Streamlit**.  \n",
    "This allows users (e.g., policymakers, analysts) to **select a country** and test how past inflation dynamics might project into future forecasts.\n",
    "\n",
    "---\n",
    "\n",
    "#### 🔹 Key Components of the App\n",
    "\n",
    "1. **Title and Layout**\n",
    "   - The app is titled *\"Inflation Forecasting Tool\"*.\n",
    "   - A **sidebar** is used for user inputs (country selection and policy-related variables).\n",
    "\n",
    "2. **Country Selection**\n",
    "   - Dropdown menu with all available countries from the dataset.\n",
    "   - Filters the dataset to only the selected country for focused forecasting.\n",
    "\n",
    "3. **User Inputs (Policy Simulation)**\n",
    "   - Users can input hypothetical policy and economic variables:  \n",
    "     - Quarter of prediction  \n",
    "     - Monetary Policy Rate (%)  \n",
    "     - Exchange Rate (local currency / USD)  \n",
    "     - Global Oil Price (USD/barrel)  \n",
    "     - Food Price Index  \n",
    "     - Money Supply Growth (%)  \n",
    "   - **Note**: These inputs are **not yet part of the dataset**; they are placeholders for future model improvements.\n",
    "\n",
    "4. **Action Button**\n",
    "   - When the user clicks **\"Run Forecast\"**, the app:  \n",
    "     - Checks if enough historical data exists.  \n",
    "     - Trains a new XGBoost model on the **selected country’s data only**.  \n",
    "     - Generates a forecast based on the most recent lagged values (`inflation_lag1`, `inflation_lag4`).  \n",
    "\n",
    "5. **Output**\n",
    "   - Displays the predicted inflation rate for the chosen country.  \n",
    "   - Shows a **line chart** of historical inflation rates for visualization.\n",
    "\n",
    "---"
   ]
  },
  {
   "cell_type": "code",
   "execution_count": 13,
   "id": "a58d01ae",
   "metadata": {},
   "outputs": [
    {
     "name": "stderr",
     "output_type": "stream",
     "text": [
      "2025-08-29 12:09:17.153 WARNING streamlit.runtime.scriptrunner_utils.script_run_context: Thread 'MainThread': missing ScriptRunContext! This warning can be ignored when running in bare mode.\n",
      "2025-08-29 12:09:17.382 \n",
      "  \u001b[33m\u001b[1mWarning:\u001b[0m to view this Streamlit app on a browser, run it with the following\n",
      "  command:\n",
      "\n",
      "    streamlit run /Users/d/Library/Python/3.12/lib/python/site-packages/ipykernel_launcher.py [ARGUMENTS]\n",
      "2025-08-29 12:09:17.383 Thread 'MainThread': missing ScriptRunContext! This warning can be ignored when running in bare mode.\n",
      "2025-08-29 12:09:17.384 Thread 'MainThread': missing ScriptRunContext! This warning can be ignored when running in bare mode.\n",
      "2025-08-29 12:09:17.386 Thread 'MainThread': missing ScriptRunContext! This warning can be ignored when running in bare mode.\n",
      "2025-08-29 12:09:17.387 Thread 'MainThread': missing ScriptRunContext! This warning can be ignored when running in bare mode.\n",
      "2025-08-29 12:09:17.388 Thread 'MainThread': missing ScriptRunContext! This warning can be ignored when running in bare mode.\n",
      "2025-08-29 12:09:17.389 Thread 'MainThread': missing ScriptRunContext! This warning can be ignored when running in bare mode.\n",
      "2025-08-29 12:09:17.389 Session state does not function when running a script without `streamlit run`\n",
      "2025-08-29 12:09:17.390 Thread 'MainThread': missing ScriptRunContext! This warning can be ignored when running in bare mode.\n",
      "2025-08-29 12:09:17.391 Thread 'MainThread': missing ScriptRunContext! This warning can be ignored when running in bare mode.\n",
      "2025-08-29 12:09:17.392 Thread 'MainThread': missing ScriptRunContext! This warning can be ignored when running in bare mode.\n",
      "2025-08-29 12:09:17.396 Thread 'MainThread': missing ScriptRunContext! This warning can be ignored when running in bare mode.\n",
      "2025-08-29 12:09:17.397 Thread 'MainThread': missing ScriptRunContext! This warning can be ignored when running in bare mode.\n",
      "2025-08-29 12:09:17.397 Thread 'MainThread': missing ScriptRunContext! This warning can be ignored when running in bare mode.\n",
      "2025-08-29 12:09:17.398 Thread 'MainThread': missing ScriptRunContext! This warning can be ignored when running in bare mode.\n",
      "2025-08-29 12:09:17.399 Thread 'MainThread': missing ScriptRunContext! This warning can be ignored when running in bare mode.\n",
      "2025-08-29 12:09:17.439 Thread 'MainThread': missing ScriptRunContext! This warning can be ignored when running in bare mode.\n",
      "2025-08-29 12:09:17.453 Thread 'MainThread': missing ScriptRunContext! This warning can be ignored when running in bare mode.\n",
      "2025-08-29 12:09:17.454 Thread 'MainThread': missing ScriptRunContext! This warning can be ignored when running in bare mode.\n",
      "2025-08-29 12:09:17.455 Thread 'MainThread': missing ScriptRunContext! This warning can be ignored when running in bare mode.\n",
      "2025-08-29 12:09:17.455 Thread 'MainThread': missing ScriptRunContext! This warning can be ignored when running in bare mode.\n",
      "2025-08-29 12:09:17.456 Thread 'MainThread': missing ScriptRunContext! This warning can be ignored when running in bare mode.\n",
      "2025-08-29 12:09:17.457 Thread 'MainThread': missing ScriptRunContext! This warning can be ignored when running in bare mode.\n",
      "2025-08-29 12:09:17.458 Thread 'MainThread': missing ScriptRunContext! This warning can be ignored when running in bare mode.\n",
      "2025-08-29 12:09:17.459 Thread 'MainThread': missing ScriptRunContext! This warning can be ignored when running in bare mode.\n",
      "2025-08-29 12:09:17.459 Thread 'MainThread': missing ScriptRunContext! This warning can be ignored when running in bare mode.\n",
      "2025-08-29 12:09:17.460 Thread 'MainThread': missing ScriptRunContext! This warning can be ignored when running in bare mode.\n",
      "2025-08-29 12:09:17.461 Thread 'MainThread': missing ScriptRunContext! This warning can be ignored when running in bare mode.\n",
      "2025-08-29 12:09:17.462 Thread 'MainThread': missing ScriptRunContext! This warning can be ignored when running in bare mode.\n",
      "2025-08-29 12:09:17.462 Thread 'MainThread': missing ScriptRunContext! This warning can be ignored when running in bare mode.\n",
      "2025-08-29 12:09:17.463 Thread 'MainThread': missing ScriptRunContext! This warning can be ignored when running in bare mode.\n",
      "2025-08-29 12:09:17.477 Thread 'MainThread': missing ScriptRunContext! This warning can be ignored when running in bare mode.\n",
      "2025-08-29 12:09:17.478 Thread 'MainThread': missing ScriptRunContext! This warning can be ignored when running in bare mode.\n",
      "2025-08-29 12:09:17.479 Thread 'MainThread': missing ScriptRunContext! This warning can be ignored when running in bare mode.\n",
      "2025-08-29 12:09:17.480 Thread 'MainThread': missing ScriptRunContext! This warning can be ignored when running in bare mode.\n",
      "2025-08-29 12:09:17.481 Thread 'MainThread': missing ScriptRunContext! This warning can be ignored when running in bare mode.\n",
      "2025-08-29 12:09:17.482 Thread 'MainThread': missing ScriptRunContext! This warning can be ignored when running in bare mode.\n",
      "2025-08-29 12:09:17.482 Thread 'MainThread': missing ScriptRunContext! This warning can be ignored when running in bare mode.\n",
      "2025-08-29 12:09:17.483 Thread 'MainThread': missing ScriptRunContext! This warning can be ignored when running in bare mode.\n",
      "2025-08-29 12:09:17.484 Thread 'MainThread': missing ScriptRunContext! This warning can be ignored when running in bare mode.\n",
      "2025-08-29 12:09:17.485 Thread 'MainThread': missing ScriptRunContext! This warning can be ignored when running in bare mode.\n",
      "2025-08-29 12:09:17.486 Thread 'MainThread': missing ScriptRunContext! This warning can be ignored when running in bare mode.\n",
      "2025-08-29 12:09:17.486 Thread 'MainThread': missing ScriptRunContext! This warning can be ignored when running in bare mode.\n",
      "2025-08-29 12:09:17.487 Thread 'MainThread': missing ScriptRunContext! This warning can be ignored when running in bare mode.\n",
      "2025-08-29 12:09:17.488 Thread 'MainThread': missing ScriptRunContext! This warning can be ignored when running in bare mode.\n",
      "2025-08-29 12:09:17.488 Thread 'MainThread': missing ScriptRunContext! This warning can be ignored when running in bare mode.\n",
      "2025-08-29 12:09:17.489 Thread 'MainThread': missing ScriptRunContext! This warning can be ignored when running in bare mode.\n",
      "2025-08-29 12:09:17.490 Thread 'MainThread': missing ScriptRunContext! This warning can be ignored when running in bare mode.\n",
      "2025-08-29 12:09:17.491 Thread 'MainThread': missing ScriptRunContext! This warning can be ignored when running in bare mode.\n",
      "2025-08-29 12:09:17.492 Thread 'MainThread': missing ScriptRunContext! This warning can be ignored when running in bare mode.\n",
      "2025-08-29 12:09:17.492 Thread 'MainThread': missing ScriptRunContext! This warning can be ignored when running in bare mode.\n",
      "2025-08-29 12:09:17.493 Thread 'MainThread': missing ScriptRunContext! This warning can be ignored when running in bare mode.\n",
      "2025-08-29 12:09:17.494 Thread 'MainThread': missing ScriptRunContext! This warning can be ignored when running in bare mode.\n",
      "2025-08-29 12:09:17.494 Thread 'MainThread': missing ScriptRunContext! This warning can be ignored when running in bare mode.\n",
      "2025-08-29 12:09:17.495 Thread 'MainThread': missing ScriptRunContext! This warning can be ignored when running in bare mode.\n",
      "2025-08-29 12:09:17.496 Thread 'MainThread': missing ScriptRunContext! This warning can be ignored when running in bare mode.\n",
      "2025-08-29 12:09:17.497 Thread 'MainThread': missing ScriptRunContext! This warning can be ignored when running in bare mode.\n",
      "2025-08-29 12:09:17.498 Thread 'MainThread': missing ScriptRunContext! This warning can be ignored when running in bare mode.\n",
      "2025-08-29 12:09:17.498 Thread 'MainThread': missing ScriptRunContext! This warning can be ignored when running in bare mode.\n",
      "2025-08-29 12:09:17.500 Thread 'MainThread': missing ScriptRunContext! This warning can be ignored when running in bare mode.\n",
      "2025-08-29 12:09:17.500 Thread 'MainThread': missing ScriptRunContext! This warning can be ignored when running in bare mode.\n",
      "2025-08-29 12:09:17.501 Thread 'MainThread': missing ScriptRunContext! This warning can be ignored when running in bare mode.\n"
     ]
    }
   ],
   "source": [
    "# Step 9: Streamlit App\n",
    "st.title(\"Inflation Forecasting Tool\")\n",
    "\n",
    "# Country selection (dropdown)\n",
    "countries = df_long[\"Country Name\"].unique()\n",
    "selected_country = st.sidebar.selectbox(\"Select Country\", sorted(countries))\n",
    "\n",
    "# Filter dataset for chosen country\n",
    "country_data = df_long[df_long[\"Country Name\"] == selected_country].copy()\n",
    "\n",
    "# User inputs\n",
    "st.sidebar.header(\"Policy Inputs (not in dataset, for simulation only)\")\n",
    "quarter = st.sidebar.selectbox(\"Quarter\", [1, 2, 3, 4])\n",
    "policy_rate = st.sidebar.number_input(\"Monetary Policy Rate (%)\", 0.00, 25.00, 10.00, step=0.01, format=\"%.2f\")\n",
    "exchange_rate = st.sidebar.number_input(\"Exchange Rate (Country Currency/USD)\", 3000, 6000, 3700)\n",
    "oil_price = st.sidebar.number_input(\"Global Oil Price (USD/barrel)\", 20, 200, 80)\n",
    "food_index = st.sidebar.number_input(\"Food Price Index\", 50, 200, 120)\n",
    "m2_growth = st.sidebar.number_input(\"Money Supply Growth (%)\", -10, 30, 10)\n",
    "\n",
    "# Action button\n",
    "if st.button(\"Run Forecast\"):\n",
    "    if country_data.shape[0] < 5:\n",
    "        st.warning(\"Not enough data to generate forecast for this country.\")\n",
    "    else:\n",
    "        # Train model only on selected country’s data\n",
    "        features = [\"inflation_lag1\", \"inflation_lag4\"]\n",
    "        X = country_data[features]\n",
    "        y = country_data[\"Inflation\"]\n",
    "\n",
    "        X_train, X_test, y_train, y_test = train_test_split(X, y, shuffle=False, test_size=0.2)\n",
    "        model = xgb.XGBRegressor(objective=\"reg:squarederror\")\n",
    "        model.fit(X_train, y_train)\n",
    "\n",
    "        latest_data = country_data.tail(1)\n",
    "        X_future = latest_data[[\"inflation_lag1\", \"inflation_lag4\"]]\n",
    "        prediction = model.predict(X_future)[0]\n",
    "\n",
    "        st.success(f\"Predicted Inflation for {selected_country} (Quarterly %): {prediction:.4f}\")\n",
    "\n",
    "        # Show chart of actual inflation\n",
    "        st.line_chart(country_data.set_index(\"Year\")[\"Inflation\"])"
   ]
  },
  {
   "cell_type": "markdown",
   "id": "f332165d",
   "metadata": {},
   "source": [
    "### Step 10: Prediction Using Lag Features\n",
    "\n",
    "In this step, we generate a **forecast of inflation** using only the **lag features** created earlier.  \n",
    "This represents a **baseline forecasting approach** where predictions rely exclusively on past inflation values (no external policy or macroeconomic inputs yet).\n",
    "\n",
    "---\n",
    "\n",
    "#### 🔹 Process\n",
    "\n",
    "1. **Select the latest data point**  \n",
    "   - We take the most recent row (`tail(1)`) from the dataset.  \n",
    "   - This contains the latest available lag values (`inflation_lag1` and `inflation_lag4`).\n",
    "\n",
    "2. **Prepare future input**  \n",
    "   - Extract lagged features as `X_future`.  \n",
    "   - Feed these into the trained model to generate a forecast.\n",
    "\n",
    "3. **Display prediction**  \n",
    "   - Use `st.metric` to display the predicted inflation in a **dashboard-style widget**.  \n",
    "   - The forecast is shown as a quarterly percentage.\n",
    "\n",
    "4. **Visualization**  \n",
    "   - A line chart of historical inflation is included to provide context for the prediction.\n",
    "\n",
    "---"
   ]
  },
  {
   "cell_type": "code",
   "execution_count": 14,
   "id": "27dd12d5",
   "metadata": {},
   "outputs": [
    {
     "name": "stderr",
     "output_type": "stream",
     "text": [
      "2025-08-29 12:10:35.239 Thread 'MainThread': missing ScriptRunContext! This warning can be ignored when running in bare mode.\n",
      "2025-08-29 12:10:35.240 Thread 'MainThread': missing ScriptRunContext! This warning can be ignored when running in bare mode.\n",
      "2025-08-29 12:10:35.241 Thread 'MainThread': missing ScriptRunContext! This warning can be ignored when running in bare mode.\n",
      "2025-08-29 12:10:37.798 Thread 'MainThread': missing ScriptRunContext! This warning can be ignored when running in bare mode.\n",
      "2025-08-29 12:10:37.799 Thread 'MainThread': missing ScriptRunContext! This warning can be ignored when running in bare mode.\n",
      "2025-08-29 12:10:37.800 Thread 'MainThread': missing ScriptRunContext! This warning can be ignored when running in bare mode.\n"
     ]
    },
    {
     "data": {
      "text/plain": [
       "DeltaGenerator()"
      ]
     },
     "execution_count": 14,
     "metadata": {},
     "output_type": "execute_result"
    }
   ],
   "source": [
    "# Prediction uses only lag features from dataset\n",
    "latest_data = df_long.tail(1)\n",
    "X_future = latest_data[[\"inflation_lag1\", \"inflation_lag4\"]]\n",
    "prediction = model.predict(X_future)[0]\n",
    "\n",
    "st.metric(\"Predicted Inflation (Quarterly %)\", f\"{prediction:.2f}\")\n",
    "\n",
    "# Show chart\n",
    "st.line_chart(df_long[[\"Year\", \"Inflation\"]].set_index(\"Year\"))"
   ]
  }
 ],
 "metadata": {
  "kernelspec": {
   "display_name": "Python 3",
   "language": "python",
   "name": "python3"
  },
  "language_info": {
   "codemirror_mode": {
    "name": "ipython",
    "version": 3
   },
   "file_extension": ".py",
   "mimetype": "text/x-python",
   "name": "python",
   "nbconvert_exporter": "python",
   "pygments_lexer": "ipython3",
   "version": "3.12.1"
  }
 },
 "nbformat": 4,
 "nbformat_minor": 5
}
