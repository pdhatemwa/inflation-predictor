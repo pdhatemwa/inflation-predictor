{
 "cells": [
  {
   "cell_type": "markdown",
   "id": "455d4c51",
   "metadata": {},
   "source": [
    "# 📈 Inflation Predictor\n",
    "\n",
    "A data science project focused on predicting inflation rates using historical data from the World Bank. This repository contains code and documentation for the full machine learning pipeline, from data acquisition and preprocessing to model deployment via Streamlit."
   ]
  },
  {
   "cell_type": "markdown",
   "id": "f2721bc6",
   "metadata": {},
   "source": [
    "### 🔬 Key Processes:\n",
    "\n",
    "1. **Data Collection** – Fetching datasets from the World Bank API or CSV files.\n",
    "2. **Data Cleaning** – Handling missing values, formatting inconsistencies, and outliers.\n",
    "3. **Exploratory Data Analysis** – Understanding distributions, trends, and correlations.\n",
    "4. **Feature Engineering** – Generating relevant features such as lag variables, rolling averages, and economic ratios.\n",
    "5. **Model Training** – Training and tuning the XGBoost model using scikit-learn pipelines.\n",
    "6. **Evaluation** – Measuring performance using RMSE, MAE, and R².\n",
    "7. **Visualization** – Presenting insights and predictions in a user-friendly format.\n",
    "8. **Deployment** – Deploying the predictive model using Streamlit."
   ]
  },
  {
   "cell_type": "markdown",
   "id": "2c7b1d48",
   "metadata": {},
   "source": [
    "Import the Key Libraries used in the data workflow."
   ]
  },
  {
   "cell_type": "code",
   "execution_count": 3,
   "id": "9be1d835",
   "metadata": {},
   "outputs": [],
   "source": [
    "import seaborn as sns \n",
    "import matplotlib.pyplot as plt \n",
    "import matplotlib.ticker as ticker\n",
    "from sklearn.model_selection import train_test_split\n",
    "from sklearn.metrics import mean_absolute_error\n",
    "import pandas as pd \n",
    "import numpy as np \n",
    "import streamlit as st \n",
    "import xgboost as xgb"
   ]
  },
  {
   "cell_type": "markdown",
   "id": "54b62c5d",
   "metadata": {},
   "source": [
    "Load the data.\n",
    "This data is a csv file from the world bank showing all the inflation rates from 1960 to 2023."
   ]
  },
  {
   "cell_type": "code",
   "execution_count": 4,
   "id": "c0a0179e",
   "metadata": {},
   "outputs": [],
   "source": [
    "# Step 1: Load the data\n",
    "my_data = r\"/Users/d/Desktop/world_inflation_data/Sheet 1-API_FP.CPI.TOTL.ZG_DS2_en_csv_v2_122376.csv\"\n",
    "df = pd.read_csv(my_data, skiprows = 4)"
   ]
  },
  {
   "cell_type": "markdown",
   "id": "c3e3ae7c",
   "metadata": {},
   "source": [
    "Now, because of the shape of the data, we'd have to melt it, such that pandas can easily interpret it.\n",
    "We are trying to minimise errors."
   ]
  },
  {
   "cell_type": "code",
   "execution_count": 5,
   "id": "90ca3198",
   "metadata": {},
   "outputs": [],
   "source": [
    "# Step 2: Reshape / melt the wide format into long format\n",
    "df_long = df.melt(\n",
    "    id_vars=[\"Country Name\", \"Country Code\", \"Indicator Name\", \"Indicator Code\"],\n",
    "    var_name=\"Year\",\n",
    "    value_name=\"Inflation\"\n",
    ")"
   ]
  },
  {
   "cell_type": "markdown",
   "id": "a9c2287d",
   "metadata": {},
   "source": [
    "Step 3: Clean the Year column\n",
    "\n",
    "df_long[\"Year\"] = pd.to_numeric(df_long[\"Year\"], errors=\"coerce\")\n",
    "\n",
    "What’s happening here?\n",
    "df_long[\"Year\"]:  This selects the Year column from our DataFrame df_long.\n",
    "\n",
    "At this stage, the Year column might not be in a clean numeric format. For example, it could contain values like:\n",
    "\"1990\", \"1991\", \"N/A\", \"Year 1992\", \"missing\"\n",
    "pd.to_numeric(..., errors=\"coerce\"):\n",
    "This function tries to convert values to numbers.\n",
    "If a value can be converted (e.g. \"1990\" → 1990), it becomes a number.\n",
    "If a value cannot be converted (e.g. \"N/A\" or \"Year 1992\"), then:\n",
    "With errors=\"coerce\", it replaces the value with NaN (Not a Number).\n",
    "The result is assigned back to df_long[\"Year\"], so now the entire column will contain clean numeric year values or NaN where conversion failed."
   ]
  },
  {
   "cell_type": "code",
   "execution_count": 6,
   "id": "47ffe499",
   "metadata": {},
   "outputs": [],
   "source": [
    "# Step 3: Clean the Year column\n",
    "df_long[\"Year\"] = pd.to_numeric(df_long[\"Year\"], errors=\"coerce\")"
   ]
  }
 ],
 "metadata": {
  "kernelspec": {
   "display_name": "Python 3",
   "language": "python",
   "name": "python3"
  },
  "language_info": {
   "codemirror_mode": {
    "name": "ipython",
    "version": 3
   },
   "file_extension": ".py",
   "mimetype": "text/x-python",
   "name": "python",
   "nbconvert_exporter": "python",
   "pygments_lexer": "ipython3",
   "version": "3.12.1"
  }
 },
 "nbformat": 4,
 "nbformat_minor": 5
}
